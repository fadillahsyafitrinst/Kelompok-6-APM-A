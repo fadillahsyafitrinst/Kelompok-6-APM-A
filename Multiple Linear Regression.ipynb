{
 "cells": [
  {
   "cell_type": "code",
   "execution_count": 1,
   "id": "e4e9eff9",
   "metadata": {},
   "outputs": [],
   "source": [
    "import pandas as pd\n",
    "import numpy as np\n",
    "import matplotlib.pyplot as plt\n",
    "import seaborn as sns\n",
    "from sklearn import linear_model\n",
    "from sklearn.model_selection import train_test_split"
   ]
  },
  {
   "cell_type": "code",
   "execution_count": 2,
   "id": "de120384",
   "metadata": {},
   "outputs": [
    {
     "name": "stdout",
     "output_type": "stream",
     "text": [
      "Shape of dataset=  (159, 7)\n"
     ]
    },
    {
     "data": {
      "text/html": [
       "<div>\n",
       "<style scoped>\n",
       "    .dataframe tbody tr th:only-of-type {\n",
       "        vertical-align: middle;\n",
       "    }\n",
       "\n",
       "    .dataframe tbody tr th {\n",
       "        vertical-align: top;\n",
       "    }\n",
       "\n",
       "    .dataframe thead th {\n",
       "        text-align: right;\n",
       "    }\n",
       "</style>\n",
       "<table border=\"1\" class=\"dataframe\">\n",
       "  <thead>\n",
       "    <tr style=\"text-align: right;\">\n",
       "      <th></th>\n",
       "      <th>Species</th>\n",
       "      <th>Weight</th>\n",
       "      <th>Length1</th>\n",
       "      <th>Length2</th>\n",
       "      <th>Length3</th>\n",
       "      <th>Height</th>\n",
       "      <th>Width</th>\n",
       "    </tr>\n",
       "  </thead>\n",
       "  <tbody>\n",
       "    <tr>\n",
       "      <th>0</th>\n",
       "      <td>Bream</td>\n",
       "      <td>242.0</td>\n",
       "      <td>23.2</td>\n",
       "      <td>25.4</td>\n",
       "      <td>30.0</td>\n",
       "      <td>11.5200</td>\n",
       "      <td>4.0200</td>\n",
       "    </tr>\n",
       "    <tr>\n",
       "      <th>1</th>\n",
       "      <td>Bream</td>\n",
       "      <td>290.0</td>\n",
       "      <td>24.0</td>\n",
       "      <td>26.3</td>\n",
       "      <td>31.2</td>\n",
       "      <td>12.4800</td>\n",
       "      <td>4.3056</td>\n",
       "    </tr>\n",
       "    <tr>\n",
       "      <th>2</th>\n",
       "      <td>Bream</td>\n",
       "      <td>340.0</td>\n",
       "      <td>23.9</td>\n",
       "      <td>26.5</td>\n",
       "      <td>31.1</td>\n",
       "      <td>12.3778</td>\n",
       "      <td>4.6961</td>\n",
       "    </tr>\n",
       "    <tr>\n",
       "      <th>3</th>\n",
       "      <td>Bream</td>\n",
       "      <td>363.0</td>\n",
       "      <td>26.3</td>\n",
       "      <td>29.0</td>\n",
       "      <td>33.5</td>\n",
       "      <td>12.7300</td>\n",
       "      <td>4.4555</td>\n",
       "    </tr>\n",
       "    <tr>\n",
       "      <th>4</th>\n",
       "      <td>Bream</td>\n",
       "      <td>430.0</td>\n",
       "      <td>26.5</td>\n",
       "      <td>29.0</td>\n",
       "      <td>34.0</td>\n",
       "      <td>12.4440</td>\n",
       "      <td>5.1340</td>\n",
       "    </tr>\n",
       "  </tbody>\n",
       "</table>\n",
       "</div>"
      ],
      "text/plain": [
       "  Species  Weight  Length1  Length2  Length3   Height   Width\n",
       "0   Bream   242.0     23.2     25.4     30.0  11.5200  4.0200\n",
       "1   Bream   290.0     24.0     26.3     31.2  12.4800  4.3056\n",
       "2   Bream   340.0     23.9     26.5     31.1  12.3778  4.6961\n",
       "3   Bream   363.0     26.3     29.0     33.5  12.7300  4.4555\n",
       "4   Bream   430.0     26.5     29.0     34.0  12.4440  5.1340"
      ]
     },
     "execution_count": 2,
     "metadata": {},
     "output_type": "execute_result"
    }
   ],
   "source": [
    "df = pd.read_csv(\"Fish.csv\")\n",
    "print('Shape of dataset= ', df.shape) # To get no of rows and columns\n",
    "df.head(5) # head(n) returns first n records only. Can also use sample(n) for random n records."
   ]
  },
  {
   "cell_type": "code",
   "execution_count": 3,
   "id": "c65f6400",
   "metadata": {},
   "outputs": [
    {
     "data": {
      "text/html": [
       "<div>\n",
       "<style scoped>\n",
       "    .dataframe tbody tr th:only-of-type {\n",
       "        vertical-align: middle;\n",
       "    }\n",
       "\n",
       "    .dataframe tbody tr th {\n",
       "        vertical-align: top;\n",
       "    }\n",
       "\n",
       "    .dataframe thead th {\n",
       "        text-align: right;\n",
       "    }\n",
       "</style>\n",
       "<table border=\"1\" class=\"dataframe\">\n",
       "  <thead>\n",
       "    <tr style=\"text-align: right;\">\n",
       "      <th></th>\n",
       "      <th>Species</th>\n",
       "      <th>Weight</th>\n",
       "      <th>VerticalLen</th>\n",
       "      <th>DiagonalLen</th>\n",
       "      <th>CrossLen</th>\n",
       "      <th>Height</th>\n",
       "      <th>Width</th>\n",
       "    </tr>\n",
       "  </thead>\n",
       "  <tbody>\n",
       "    <tr>\n",
       "      <th>10</th>\n",
       "      <td>Bream</td>\n",
       "      <td>475.0</td>\n",
       "      <td>28.4</td>\n",
       "      <td>31.0</td>\n",
       "      <td>36.2</td>\n",
       "      <td>14.2628</td>\n",
       "      <td>5.1042</td>\n",
       "    </tr>\n",
       "    <tr>\n",
       "      <th>59</th>\n",
       "      <td>Whitefish</td>\n",
       "      <td>800.0</td>\n",
       "      <td>33.7</td>\n",
       "      <td>36.4</td>\n",
       "      <td>39.6</td>\n",
       "      <td>11.7612</td>\n",
       "      <td>6.5736</td>\n",
       "    </tr>\n",
       "    <tr>\n",
       "      <th>62</th>\n",
       "      <td>Parkki</td>\n",
       "      <td>60.0</td>\n",
       "      <td>14.3</td>\n",
       "      <td>15.5</td>\n",
       "      <td>17.4</td>\n",
       "      <td>6.5772</td>\n",
       "      <td>2.3142</td>\n",
       "    </tr>\n",
       "    <tr>\n",
       "      <th>27</th>\n",
       "      <td>Bream</td>\n",
       "      <td>714.0</td>\n",
       "      <td>32.7</td>\n",
       "      <td>36.0</td>\n",
       "      <td>41.5</td>\n",
       "      <td>16.5170</td>\n",
       "      <td>5.8515</td>\n",
       "    </tr>\n",
       "    <tr>\n",
       "      <th>37</th>\n",
       "      <td>Roach</td>\n",
       "      <td>78.0</td>\n",
       "      <td>17.5</td>\n",
       "      <td>18.8</td>\n",
       "      <td>21.2</td>\n",
       "      <td>5.5756</td>\n",
       "      <td>2.9044</td>\n",
       "    </tr>\n",
       "  </tbody>\n",
       "</table>\n",
       "</div>"
      ],
      "text/plain": [
       "      Species  Weight  VerticalLen  DiagonalLen  CrossLen   Height   Width\n",
       "10      Bream   475.0         28.4         31.0      36.2  14.2628  5.1042\n",
       "59  Whitefish   800.0         33.7         36.4      39.6  11.7612  6.5736\n",
       "62     Parkki    60.0         14.3         15.5      17.4   6.5772  2.3142\n",
       "27      Bream   714.0         32.7         36.0      41.5  16.5170  5.8515\n",
       "37      Roach    78.0         17.5         18.8      21.2   5.5756  2.9044"
      ]
     },
     "execution_count": 3,
     "metadata": {},
     "output_type": "execute_result"
    }
   ],
   "source": [
    "df.rename(columns={'Length1':'VerticalLen','Length2':'DiagonalLen','Length3':'CrossLen'},inplace = True) # 'inplace= true' to make change in current dataframe\n",
    "df.sample(5) # Display random 5 records"
   ]
  },
  {
   "cell_type": "code",
   "execution_count": 4,
   "id": "8b044022",
   "metadata": {},
   "outputs": [
    {
     "name": "stdout",
     "output_type": "stream",
     "text": [
      "<class 'pandas.core.frame.DataFrame'>\n",
      "RangeIndex: 159 entries, 0 to 158\n",
      "Data columns (total 7 columns):\n",
      " #   Column       Non-Null Count  Dtype  \n",
      "---  ------       --------------  -----  \n",
      " 0   Species      159 non-null    object \n",
      " 1   Weight       159 non-null    float64\n",
      " 2   VerticalLen  159 non-null    float64\n",
      " 3   DiagonalLen  159 non-null    float64\n",
      " 4   CrossLen     159 non-null    float64\n",
      " 5   Height       159 non-null    float64\n",
      " 6   Width        159 non-null    float64\n",
      "dtypes: float64(6), object(1)\n",
      "memory usage: 8.8+ KB\n"
     ]
    }
   ],
   "source": [
    "df.info()"
   ]
  },
  {
   "cell_type": "code",
   "execution_count": 5,
   "id": "e3fef1fc",
   "metadata": {},
   "outputs": [
    {
     "data": {
      "text/plain": [
       "Species        0\n",
       "Weight         0\n",
       "VerticalLen    0\n",
       "DiagonalLen    0\n",
       "CrossLen       0\n",
       "Height         0\n",
       "Width          0\n",
       "dtype: int64"
      ]
     },
     "execution_count": 5,
     "metadata": {},
     "output_type": "execute_result"
    }
   ],
   "source": [
    "df.isna().sum() # ambil sum all Nan values pada tiap kolom"
   ]
  },
  {
   "cell_type": "code",
   "execution_count": 6,
   "id": "f9e27a83",
   "metadata": {},
   "outputs": [
    {
     "data": {
      "text/plain": [
       "Perch        56\n",
       "Bream        35\n",
       "Roach        20\n",
       "Pike         17\n",
       "Smelt        14\n",
       "Parkki       11\n",
       "Whitefish     6\n",
       "Name: Species, dtype: int64"
      ]
     },
     "execution_count": 6,
     "metadata": {},
     "output_type": "execute_result"
    }
   ],
   "source": [
    "df.Species.value_counts()"
   ]
  },
  {
   "cell_type": "code",
   "execution_count": 7,
   "id": "4070a697",
   "metadata": {},
   "outputs": [
    {
     "data": {
      "text/html": [
       "<div>\n",
       "<style scoped>\n",
       "    .dataframe tbody tr th:only-of-type {\n",
       "        vertical-align: middle;\n",
       "    }\n",
       "\n",
       "    .dataframe tbody tr th {\n",
       "        vertical-align: top;\n",
       "    }\n",
       "\n",
       "    .dataframe thead th {\n",
       "        text-align: right;\n",
       "    }\n",
       "</style>\n",
       "<table border=\"1\" class=\"dataframe\">\n",
       "  <thead>\n",
       "    <tr style=\"text-align: right;\">\n",
       "      <th></th>\n",
       "      <th>Perch</th>\n",
       "      <th>Bream</th>\n",
       "      <th>Roach</th>\n",
       "      <th>Pike</th>\n",
       "      <th>Smelt</th>\n",
       "      <th>Parkki</th>\n",
       "      <th>Whitefish</th>\n",
       "    </tr>\n",
       "  </thead>\n",
       "  <tbody>\n",
       "    <tr>\n",
       "      <th>Species</th>\n",
       "      <td>56</td>\n",
       "      <td>35</td>\n",
       "      <td>20</td>\n",
       "      <td>17</td>\n",
       "      <td>14</td>\n",
       "      <td>11</td>\n",
       "      <td>6</td>\n",
       "    </tr>\n",
       "  </tbody>\n",
       "</table>\n",
       "</div>"
      ],
      "text/plain": [
       "         Perch  Bream  Roach  Pike  Smelt  Parkki  Whitefish\n",
       "Species     56     35     20    17     14      11          6"
      ]
     },
     "execution_count": 7,
     "metadata": {},
     "output_type": "execute_result"
    }
   ],
   "source": [
    "df_sp = df.Species.value_counts()\n",
    "df_sp = pd.DataFrame(df_sp)\n",
    "df_sp.T "
   ]
  },
  {
   "cell_type": "code",
   "execution_count": 8,
   "id": "d7aea43b",
   "metadata": {},
   "outputs": [
    {
     "data": {
      "image/png": "[encoded data removed]",
      "text/plain": [
       "<Figure size 432x288 with 1 Axes>"
      ]
     },
     "metadata": {
      "needs_background": "light"
     },
     "output_type": "display_data"
    }
   ],
   "source": [
    "sns.barplot(x= df_sp.index, y = df_sp.Species) #label dari dataframe\n",
    "plt.xlabel('Species')\n",
    "plt.ylabel('Count of Species')\n",
    "plt.rcParams[\"figure.figsize\"] = (10,6)\n",
    "plt.title('Fish Count Based On Species')\n",
    "plt.show()"
   ]
  },
  {
   "cell_type": "code",
   "execution_count": 9,
   "id": "da2e6278",
   "metadata": {},
   "outputs": [
    {
     "data": {
      "text/html": [
       "<div>\n",
       "<style scoped>\n",
       "    .dataframe tbody tr th:only-of-type {\n",
       "        vertical-align: middle;\n",
       "    }\n",
       "\n",
       "    .dataframe tbody tr th {\n",
       "        vertical-align: top;\n",
       "    }\n",
       "\n",
       "    .dataframe thead th {\n",
       "        text-align: right;\n",
       "    }\n",
       "</style>\n",
       "<table border=\"1\" class=\"dataframe\">\n",
       "  <thead>\n",
       "    <tr style=\"text-align: right;\">\n",
       "      <th></th>\n",
       "      <th>Species</th>\n",
       "      <th>Weight</th>\n",
       "      <th>VerticalLen</th>\n",
       "      <th>DiagonalLen</th>\n",
       "      <th>CrossLen</th>\n",
       "      <th>Height</th>\n",
       "      <th>Width</th>\n",
       "    </tr>\n",
       "  </thead>\n",
       "  <tbody>\n",
       "    <tr>\n",
       "      <th>40</th>\n",
       "      <td>Roach</td>\n",
       "      <td>0.0</td>\n",
       "      <td>19.0</td>\n",
       "      <td>20.5</td>\n",
       "      <td>22.8</td>\n",
       "      <td>6.4752</td>\n",
       "      <td>3.3516</td>\n",
       "    </tr>\n",
       "  </tbody>\n",
       "</table>\n",
       "</div>"
      ],
      "text/plain": [
       "   Species  Weight  VerticalLen  DiagonalLen  CrossLen  Height   Width\n",
       "40   Roach     0.0         19.0         20.5      22.8  6.4752  3.3516"
      ]
     },
     "execution_count": 9,
     "metadata": {},
     "output_type": "execute_result"
    }
   ],
   "source": [
    "df[df.Weight <= 0]"
   ]
  },
  {
   "cell_type": "code",
   "execution_count": 10,
   "id": "7e465704",
   "metadata": {},
   "outputs": [
    {
     "name": "stdout",
     "output_type": "stream",
     "text": [
      "New dimension of dataset is=  (158, 7)\n"
     ]
    },
    {
     "data": {
      "text/html": [
       "<div>\n",
       "<style scoped>\n",
       "    .dataframe tbody tr th:only-of-type {\n",
       "        vertical-align: middle;\n",
       "    }\n",
       "\n",
       "    .dataframe tbody tr th {\n",
       "        vertical-align: top;\n",
       "    }\n",
       "\n",
       "    .dataframe thead th {\n",
       "        text-align: right;\n",
       "    }\n",
       "</style>\n",
       "<table border=\"1\" class=\"dataframe\">\n",
       "  <thead>\n",
       "    <tr style=\"text-align: right;\">\n",
       "      <th></th>\n",
       "      <th>Species</th>\n",
       "      <th>Weight</th>\n",
       "      <th>VerticalLen</th>\n",
       "      <th>DiagonalLen</th>\n",
       "      <th>CrossLen</th>\n",
       "      <th>Height</th>\n",
       "      <th>Width</th>\n",
       "    </tr>\n",
       "  </thead>\n",
       "  <tbody>\n",
       "    <tr>\n",
       "      <th>0</th>\n",
       "      <td>Bream</td>\n",
       "      <td>242.0</td>\n",
       "      <td>23.2</td>\n",
       "      <td>25.4</td>\n",
       "      <td>30.0</td>\n",
       "      <td>11.5200</td>\n",
       "      <td>4.0200</td>\n",
       "    </tr>\n",
       "    <tr>\n",
       "      <th>1</th>\n",
       "      <td>Bream</td>\n",
       "      <td>290.0</td>\n",
       "      <td>24.0</td>\n",
       "      <td>26.3</td>\n",
       "      <td>31.2</td>\n",
       "      <td>12.4800</td>\n",
       "      <td>4.3056</td>\n",
       "    </tr>\n",
       "    <tr>\n",
       "      <th>2</th>\n",
       "      <td>Bream</td>\n",
       "      <td>340.0</td>\n",
       "      <td>23.9</td>\n",
       "      <td>26.5</td>\n",
       "      <td>31.1</td>\n",
       "      <td>12.3778</td>\n",
       "      <td>4.6961</td>\n",
       "    </tr>\n",
       "    <tr>\n",
       "      <th>3</th>\n",
       "      <td>Bream</td>\n",
       "      <td>363.0</td>\n",
       "      <td>26.3</td>\n",
       "      <td>29.0</td>\n",
       "      <td>33.5</td>\n",
       "      <td>12.7300</td>\n",
       "      <td>4.4555</td>\n",
       "    </tr>\n",
       "    <tr>\n",
       "      <th>4</th>\n",
       "      <td>Bream</td>\n",
       "      <td>430.0</td>\n",
       "      <td>26.5</td>\n",
       "      <td>29.0</td>\n",
       "      <td>34.0</td>\n",
       "      <td>12.4440</td>\n",
       "      <td>5.1340</td>\n",
       "    </tr>\n",
       "  </tbody>\n",
       "</table>\n",
       "</div>"
      ],
      "text/plain": [
       "  Species  Weight  VerticalLen  DiagonalLen  CrossLen   Height   Width\n",
       "0   Bream   242.0         23.2         25.4      30.0  11.5200  4.0200\n",
       "1   Bream   290.0         24.0         26.3      31.2  12.4800  4.3056\n",
       "2   Bream   340.0         23.9         26.5      31.1  12.3778  4.6961\n",
       "3   Bream   363.0         26.3         29.0      33.5  12.7300  4.4555\n",
       "4   Bream   430.0         26.5         29.0      34.0  12.4440  5.1340"
      ]
     },
     "execution_count": 10,
     "metadata": {},
     "output_type": "execute_result"
    }
   ],
   "source": [
    "df1 = df.drop([40])\n",
    "print('New dimension of dataset is= ', df1.shape)\n",
    "df1.head(5)"
   ]
  },
  {
   "cell_type": "code",
   "execution_count": 11,
   "id": "9f913a00",
   "metadata": {},
   "outputs": [
    {
     "data": {
      "text/html": [
       "<div>\n",
       "<style scoped>\n",
       "    .dataframe tbody tr th:only-of-type {\n",
       "        vertical-align: middle;\n",
       "    }\n",
       "\n",
       "    .dataframe tbody tr th {\n",
       "        vertical-align: top;\n",
       "    }\n",
       "\n",
       "    .dataframe thead th {\n",
       "        text-align: right;\n",
       "    }\n",
       "</style>\n",
       "<table border=\"1\" class=\"dataframe\">\n",
       "  <thead>\n",
       "    <tr style=\"text-align: right;\">\n",
       "      <th></th>\n",
       "      <th>Weight</th>\n",
       "      <th>VerticalLen</th>\n",
       "      <th>DiagonalLen</th>\n",
       "      <th>CrossLen</th>\n",
       "      <th>Height</th>\n",
       "      <th>Width</th>\n",
       "    </tr>\n",
       "  </thead>\n",
       "  <tbody>\n",
       "    <tr>\n",
       "      <th>Weight</th>\n",
       "      <td>1.000000</td>\n",
       "      <td>0.915719</td>\n",
       "      <td>0.918603</td>\n",
       "      <td>0.923090</td>\n",
       "      <td>0.723857</td>\n",
       "      <td>0.886654</td>\n",
       "    </tr>\n",
       "    <tr>\n",
       "      <th>VerticalLen</th>\n",
       "      <td>0.915719</td>\n",
       "      <td>1.000000</td>\n",
       "      <td>0.999516</td>\n",
       "      <td>0.992004</td>\n",
       "      <td>0.624409</td>\n",
       "      <td>0.866684</td>\n",
       "    </tr>\n",
       "    <tr>\n",
       "      <th>DiagonalLen</th>\n",
       "      <td>0.918603</td>\n",
       "      <td>0.999516</td>\n",
       "      <td>1.000000</td>\n",
       "      <td>0.994083</td>\n",
       "      <td>0.639503</td>\n",
       "      <td>0.873201</td>\n",
       "    </tr>\n",
       "    <tr>\n",
       "      <th>CrossLen</th>\n",
       "      <td>0.923090</td>\n",
       "      <td>0.992004</td>\n",
       "      <td>0.994083</td>\n",
       "      <td>1.000000</td>\n",
       "      <td>0.702655</td>\n",
       "      <td>0.878189</td>\n",
       "    </tr>\n",
       "    <tr>\n",
       "      <th>Height</th>\n",
       "      <td>0.723857</td>\n",
       "      <td>0.624409</td>\n",
       "      <td>0.639503</td>\n",
       "      <td>0.702655</td>\n",
       "      <td>1.000000</td>\n",
       "      <td>0.792401</td>\n",
       "    </tr>\n",
       "    <tr>\n",
       "      <th>Width</th>\n",
       "      <td>0.886654</td>\n",
       "      <td>0.866684</td>\n",
       "      <td>0.873201</td>\n",
       "      <td>0.878189</td>\n",
       "      <td>0.792401</td>\n",
       "      <td>1.000000</td>\n",
       "    </tr>\n",
       "  </tbody>\n",
       "</table>\n",
       "</div>"
      ],
      "text/plain": [
       "               Weight  VerticalLen  DiagonalLen  CrossLen    Height     Width\n",
       "Weight       1.000000     0.915719     0.918603  0.923090  0.723857  0.886654\n",
       "VerticalLen  0.915719     1.000000     0.999516  0.992004  0.624409  0.866684\n",
       "DiagonalLen  0.918603     0.999516     1.000000  0.994083  0.639503  0.873201\n",
       "CrossLen     0.923090     0.992004     0.994083  1.000000  0.702655  0.878189\n",
       "Height       0.723857     0.624409     0.639503  0.702655  1.000000  0.792401\n",
       "Width        0.886654     0.866684     0.873201  0.878189  0.792401  1.000000"
      ]
     },
     "execution_count": 11,
     "metadata": {},
     "output_type": "execute_result"
    }
   ],
   "source": [
    "df1.corr()"
   ]
  },
  {
   "cell_type": "code",
   "execution_count": 12,
   "id": "0cfa8c6a",
   "metadata": {},
   "outputs": [
    {
     "data": {
      "text/plain": [
       "Text(0.5, 1.0, 'Correlation Matrix')"
      ]
     },
     "execution_count": 12,
     "metadata": {},
     "output_type": "execute_result"
    },
    {
     "data": {
      "image/png": "[encoded data removed]",
      "text/plain": [
       "<Figure size 720x432 with 2 Axes>"
      ]
     },
     "metadata": {
      "needs_background": "light"
     },
     "output_type": "display_data"
    }
   ],
   "source": [
    "plt.rcParams[\"figure.figsize\"] = (10,6) # Custom figure size in inches\n",
    "sns.heatmap(df1.corr(), annot =True)\n",
    "plt.title('Correlation Matrix')"
   ]
  },
  {
   "cell_type": "code",
   "execution_count": 13,
   "id": "c5d72fb9",
   "metadata": {},
   "outputs": [
    {
     "name": "stdout",
     "output_type": "stream",
     "text": [
      "New dimension of dataset is=  (158, 4)\n"
     ]
    },
    {
     "data": {
      "text/html": [
       "<div>\n",
       "<style scoped>\n",
       "    .dataframe tbody tr th:only-of-type {\n",
       "        vertical-align: middle;\n",
       "    }\n",
       "\n",
       "    .dataframe tbody tr th {\n",
       "        vertical-align: top;\n",
       "    }\n",
       "\n",
       "    .dataframe thead th {\n",
       "        text-align: right;\n",
       "    }\n",
       "</style>\n",
       "<table border=\"1\" class=\"dataframe\">\n",
       "  <thead>\n",
       "    <tr style=\"text-align: right;\">\n",
       "      <th></th>\n",
       "      <th>Species</th>\n",
       "      <th>Weight</th>\n",
       "      <th>Height</th>\n",
       "      <th>Width</th>\n",
       "    </tr>\n",
       "  </thead>\n",
       "  <tbody>\n",
       "    <tr>\n",
       "      <th>0</th>\n",
       "      <td>Bream</td>\n",
       "      <td>242.0</td>\n",
       "      <td>11.5200</td>\n",
       "      <td>4.0200</td>\n",
       "    </tr>\n",
       "    <tr>\n",
       "      <th>1</th>\n",
       "      <td>Bream</td>\n",
       "      <td>290.0</td>\n",
       "      <td>12.4800</td>\n",
       "      <td>4.3056</td>\n",
       "    </tr>\n",
       "    <tr>\n",
       "      <th>2</th>\n",
       "      <td>Bream</td>\n",
       "      <td>340.0</td>\n",
       "      <td>12.3778</td>\n",
       "      <td>4.6961</td>\n",
       "    </tr>\n",
       "    <tr>\n",
       "      <th>3</th>\n",
       "      <td>Bream</td>\n",
       "      <td>363.0</td>\n",
       "      <td>12.7300</td>\n",
       "      <td>4.4555</td>\n",
       "    </tr>\n",
       "    <tr>\n",
       "      <th>4</th>\n",
       "      <td>Bream</td>\n",
       "      <td>430.0</td>\n",
       "      <td>12.4440</td>\n",
       "      <td>5.1340</td>\n",
       "    </tr>\n",
       "  </tbody>\n",
       "</table>\n",
       "</div>"
      ],
      "text/plain": [
       "  Species  Weight   Height   Width\n",
       "0   Bream   242.0  11.5200  4.0200\n",
       "1   Bream   290.0  12.4800  4.3056\n",
       "2   Bream   340.0  12.3778  4.6961\n",
       "3   Bream   363.0  12.7300  4.4555\n",
       "4   Bream   430.0  12.4440  5.1340"
      ]
     },
     "execution_count": 13,
     "metadata": {},
     "output_type": "execute_result"
    }
   ],
   "source": [
    "df2 = df1.drop(['VerticalLen', 'DiagonalLen', 'CrossLen'], axis =1) # Can also use axis = 'columns'\n",
    "print('New dimension of dataset is= ', df2.shape)\n",
    "df2.head()"
   ]
  },
  {
   "cell_type": "code",
   "execution_count": 14,
   "id": "cefb3544",
   "metadata": {},
   "outputs": [
    {
     "data": {
      "text/plain": [
       "<seaborn.axisgrid.PairGrid at 0x2afeee07af0>"
      ]
     },
     "execution_count": 14,
     "metadata": {},
     "output_type": "execute_result"
    },
    {
     "data": {
      "image/png": "[encoded data removed]",
      "text/plain": [
       "<Figure size 623.25x540 with 12 Axes>"
      ]
     },
     "metadata": {
      "needs_background": "light"
     },
     "output_type": "display_data"
    }
   ],
   "source": [
    "sns.pairplot(df2, kind = 'scatter', hue = 'Species')"
   ]
  },
  {
   "cell_type": "code",
   "execution_count": 15,
   "id": "10465f34",
   "metadata": {},
   "outputs": [
    {
     "data": {
      "text/plain": [
       "Text(0.5, 1.0, 'Outlier Detection based on Weight')"
      ]
     },
     "execution_count": 15,
     "metadata": {},
     "output_type": "execute_result"
    },
    {
     "data": {
      "image/png": "[encoded data removed]",
      "text/plain": [
       "<Figure size 720x432 with 1 Axes>"
      ]
     },
     "metadata": {
      "needs_background": "light"
     },
     "output_type": "display_data"
    }
   ],
   "source": [
    "sns.boxplot(x=df2['Weight'])\n",
    "plt.title('Outlier Detection based on Weight')"
   ]
  },
  {
   "cell_type": "code",
   "execution_count": 16,
   "id": "635253e9",
   "metadata": {},
   "outputs": [],
   "source": [
    "def outlier_detection(dataframe):\n",
    "  Q1 = dataframe.quantile(0.25)\n",
    "  Q3 = dataframe.quantile(0.75)\n",
    "  IQR = Q3 - Q1\n",
    "  upper_end = Q3 + 1.5 * IQR\n",
    "  lower_end = Q1 - 1.5 * IQR \n",
    "  outlier = dataframe[(dataframe > upper_end) | (dataframe < lower_end)]\n",
    "  return outlier"
   ]
  },
  {
   "cell_type": "code",
   "execution_count": 17,
   "id": "7b1ac7e3",
   "metadata": {},
   "outputs": [
    {
     "data": {
      "text/plain": [
       "142    1600.0\n",
       "143    1550.0\n",
       "144    1650.0\n",
       "Name: Weight, dtype: float64"
      ]
     },
     "execution_count": 17,
     "metadata": {},
     "output_type": "execute_result"
    }
   ],
   "source": [
    "outlier_detection(df2['Weight'])"
   ]
  },
  {
   "cell_type": "code",
   "execution_count": 18,
   "id": "88e8eb63",
   "metadata": {},
   "outputs": [
    {
     "data": {
      "text/plain": [
       "Text(0.5, 1.0, 'Outlier Detection based on Height')"
      ]
     },
     "execution_count": 18,
     "metadata": {},
     "output_type": "execute_result"
    },
    {
     "data": {
      "image/png": "[encoded data removed]",
      "text/plain": [
       "<Figure size 720x432 with 1 Axes>"
      ]
     },
     "metadata": {
      "needs_background": "light"
     },
     "output_type": "display_data"
    }
   ],
   "source": [
    "sns.boxplot(x =df2['Height'])\n",
    "plt.title('Outlier Detection based on Height')"
   ]
  },
  {
   "cell_type": "code",
   "execution_count": 19,
   "id": "a9660c31",
   "metadata": {},
   "outputs": [
    {
     "data": {
      "text/plain": [
       "Text(0.5, 1.0, 'Outlier Detection based on Width')"
      ]
     },
     "execution_count": 19,
     "metadata": {},
     "output_type": "execute_result"
    },
    {
     "data": {
      "image/png": "[encoded data removed]",
      "text/plain": [
       "<Figure size 720x432 with 1 Axes>"
      ]
     },
     "metadata": {
      "needs_background": "light"
     },
     "output_type": "display_data"
    }
   ],
   "source": [
    "sns.boxplot(x = df2['Width'])\n",
    "plt.title('Outlier Detection based on Width')"
   ]
  },
  {
   "cell_type": "code",
   "execution_count": 20,
   "id": "97209f46",
   "metadata": {},
   "outputs": [
    {
     "data": {
      "text/plain": [
       "(155, 4)"
      ]
     },
     "execution_count": 20,
     "metadata": {},
     "output_type": "execute_result"
    }
   ],
   "source": [
    "df3 = df2.drop([142,143,144])\n",
    "df3.shape"
   ]
  },
  {
   "cell_type": "code",
   "execution_count": 21,
   "id": "7421f24d",
   "metadata": {},
   "outputs": [
    {
     "data": {
      "text/html": [
       "<div>\n",
       "<style scoped>\n",
       "    .dataframe tbody tr th:only-of-type {\n",
       "        vertical-align: middle;\n",
       "    }\n",
       "\n",
       "    .dataframe tbody tr th {\n",
       "        vertical-align: top;\n",
       "    }\n",
       "\n",
       "    .dataframe thead th {\n",
       "        text-align: right;\n",
       "    }\n",
       "</style>\n",
       "<table border=\"1\" class=\"dataframe\">\n",
       "  <thead>\n",
       "    <tr style=\"text-align: right;\">\n",
       "      <th></th>\n",
       "      <th>count</th>\n",
       "      <th>mean</th>\n",
       "      <th>std</th>\n",
       "      <th>min</th>\n",
       "      <th>25%</th>\n",
       "      <th>50%</th>\n",
       "      <th>75%</th>\n",
       "      <th>max</th>\n",
       "    </tr>\n",
       "  </thead>\n",
       "  <tbody>\n",
       "    <tr>\n",
       "      <th>Weight</th>\n",
       "      <td>155.0</td>\n",
       "      <td>377.638065</td>\n",
       "      <td>319.144511</td>\n",
       "      <td>5.9000</td>\n",
       "      <td>120.00000</td>\n",
       "      <td>272.0000</td>\n",
       "      <td>615.00000</td>\n",
       "      <td>1250.000</td>\n",
       "    </tr>\n",
       "    <tr>\n",
       "      <th>Height</th>\n",
       "      <td>155.0</td>\n",
       "      <td>8.967102</td>\n",
       "      <td>4.333722</td>\n",
       "      <td>1.7284</td>\n",
       "      <td>5.92695</td>\n",
       "      <td>7.6800</td>\n",
       "      <td>12.37930</td>\n",
       "      <td>18.957</td>\n",
       "    </tr>\n",
       "    <tr>\n",
       "      <th>Width</th>\n",
       "      <td>155.0</td>\n",
       "      <td>4.382326</td>\n",
       "      <td>1.675564</td>\n",
       "      <td>1.0476</td>\n",
       "      <td>3.38565</td>\n",
       "      <td>4.2476</td>\n",
       "      <td>5.47275</td>\n",
       "      <td>8.142</td>\n",
       "    </tr>\n",
       "  </tbody>\n",
       "</table>\n",
       "</div>"
      ],
      "text/plain": [
       "        count        mean         std     min        25%       50%        75%  \\\n",
       "Weight  155.0  377.638065  319.144511  5.9000  120.00000  272.0000  615.00000   \n",
       "Height  155.0    8.967102    4.333722  1.7284    5.92695    7.6800   12.37930   \n",
       "Width   155.0    4.382326    1.675564  1.0476    3.38565    4.2476    5.47275   \n",
       "\n",
       "             max  \n",
       "Weight  1250.000  \n",
       "Height    18.957  \n",
       "Width      8.142  "
      ]
     },
     "execution_count": 21,
     "metadata": {},
     "output_type": "execute_result"
    }
   ],
   "source": [
    "df3.describe().T"
   ]
  },
  {
   "cell_type": "code",
   "execution_count": 22,
   "id": "4e1111f5",
   "metadata": {},
   "outputs": [
    {
     "data": {
      "text/html": [
       "<div>\n",
       "<style scoped>\n",
       "    .dataframe tbody tr th:only-of-type {\n",
       "        vertical-align: middle;\n",
       "    }\n",
       "\n",
       "    .dataframe tbody tr th {\n",
       "        vertical-align: top;\n",
       "    }\n",
       "\n",
       "    .dataframe thead th {\n",
       "        text-align: right;\n",
       "    }\n",
       "</style>\n",
       "<table border=\"1\" class=\"dataframe\">\n",
       "  <thead>\n",
       "    <tr style=\"text-align: right;\">\n",
       "      <th></th>\n",
       "      <th>Height</th>\n",
       "      <th>Width</th>\n",
       "    </tr>\n",
       "  </thead>\n",
       "  <tbody>\n",
       "    <tr>\n",
       "      <th>0</th>\n",
       "      <td>11.5200</td>\n",
       "      <td>4.0200</td>\n",
       "    </tr>\n",
       "    <tr>\n",
       "      <th>1</th>\n",
       "      <td>12.4800</td>\n",
       "      <td>4.3056</td>\n",
       "    </tr>\n",
       "    <tr>\n",
       "      <th>2</th>\n",
       "      <td>12.3778</td>\n",
       "      <td>4.6961</td>\n",
       "    </tr>\n",
       "    <tr>\n",
       "      <th>3</th>\n",
       "      <td>12.7300</td>\n",
       "      <td>4.4555</td>\n",
       "    </tr>\n",
       "    <tr>\n",
       "      <th>4</th>\n",
       "      <td>12.4440</td>\n",
       "      <td>5.1340</td>\n",
       "    </tr>\n",
       "  </tbody>\n",
       "</table>\n",
       "</div>"
      ],
      "text/plain": [
       "    Height   Width\n",
       "0  11.5200  4.0200\n",
       "1  12.4800  4.3056\n",
       "2  12.3778  4.6961\n",
       "3  12.7300  4.4555\n",
       "4  12.4440  5.1340"
      ]
     },
     "execution_count": 22,
     "metadata": {},
     "output_type": "execute_result"
    }
   ],
   "source": [
    "#X = df3.iloc[:,[2,3]] # Select columns using column index\n",
    "X = df3[['Height','Width']] # Select columns using column name\n",
    "X.head()"
   ]
  },
  {
   "cell_type": "code",
   "execution_count": 23,
   "id": "d634d827",
   "metadata": {},
   "outputs": [
    {
     "data": {
      "text/html": [
       "<div>\n",
       "<style scoped>\n",
       "    .dataframe tbody tr th:only-of-type {\n",
       "        vertical-align: middle;\n",
       "    }\n",
       "\n",
       "    .dataframe tbody tr th {\n",
       "        vertical-align: top;\n",
       "    }\n",
       "\n",
       "    .dataframe thead th {\n",
       "        text-align: right;\n",
       "    }\n",
       "</style>\n",
       "<table border=\"1\" class=\"dataframe\">\n",
       "  <thead>\n",
       "    <tr style=\"text-align: right;\">\n",
       "      <th></th>\n",
       "      <th>Weight</th>\n",
       "    </tr>\n",
       "  </thead>\n",
       "  <tbody>\n",
       "    <tr>\n",
       "      <th>0</th>\n",
       "      <td>242.0</td>\n",
       "    </tr>\n",
       "    <tr>\n",
       "      <th>1</th>\n",
       "      <td>290.0</td>\n",
       "    </tr>\n",
       "    <tr>\n",
       "      <th>2</th>\n",
       "      <td>340.0</td>\n",
       "    </tr>\n",
       "    <tr>\n",
       "      <th>3</th>\n",
       "      <td>363.0</td>\n",
       "    </tr>\n",
       "    <tr>\n",
       "      <th>4</th>\n",
       "      <td>430.0</td>\n",
       "    </tr>\n",
       "  </tbody>\n",
       "</table>\n",
       "</div>"
      ],
      "text/plain": [
       "   Weight\n",
       "0   242.0\n",
       "1   290.0\n",
       "2   340.0\n",
       "3   363.0\n",
       "4   430.0"
      ]
     },
     "execution_count": 23,
     "metadata": {},
     "output_type": "execute_result"
    }
   ],
   "source": [
    "#y = df3.iloc[:,[1]] # Select columns using column index\n",
    "y = df3[['Weight']]\n",
    "y.head(5)"
   ]
  },
  {
   "cell_type": "code",
   "execution_count": 24,
   "id": "e853d4d5",
   "metadata": {},
   "outputs": [
    {
     "name": "stdout",
     "output_type": "stream",
     "text": [
      "X_train dimension=  (124, 2)\n",
      "X_test dimension=  (31, 2)\n",
      "y_train dimension=  (124, 1)\n",
      "y_train dimension=  (31, 1)\n"
     ]
    }
   ],
   "source": [
    "X_train,X_test, y_train, y_test = train_test_split(X, y, test_size =0.2, random_state = 42) \n",
    "# Use paramter 'random_state=1' if you want keep results same everytime you execute above code\n",
    "print('X_train dimension= ', X_train.shape)\n",
    "print('X_test dimension= ', X_test.shape)\n",
    "print('y_train dimension= ', y_train.shape)\n",
    "print('y_train dimension= ', y_test.shape)"
   ]
  },
  {
   "cell_type": "code",
   "execution_count": 25,
   "id": "ad1b2d8d",
   "metadata": {},
   "outputs": [
    {
     "data": {
      "text/plain": [
       "LinearRegression()"
      ]
     },
     "execution_count": 25,
     "metadata": {},
     "output_type": "execute_result"
    }
   ],
   "source": [
    "model = linear_model.LinearRegression()\n",
    "model.fit(X_train,y_train)"
   ]
  },
  {
   "cell_type": "code",
   "execution_count": 26,
   "id": "b5f8c9cc",
   "metadata": {},
   "outputs": [
    {
     "name": "stdout",
     "output_type": "stream",
     "text": [
      "coef=  [[ 10.40686081 151.73209963]]\n",
      "intercept=  [-386.16761436]\n",
      "score=  0.896022997657309\n"
     ]
    }
   ],
   "source": [
    "print('coef= ', model.coef_) # Since we have two features(Height and Width), there will be 2 coef\n",
    "print('intercept= ', model.intercept_)\n",
    "print('score= ', model.score(X_test,y_test))"
   ]
  },
  {
   "cell_type": "code",
   "execution_count": 27,
   "id": "c052d847",
   "metadata": {},
   "outputs": [
    {
     "data": {
      "text/html": [
       "<div>\n",
       "<style scoped>\n",
       "    .dataframe tbody tr th:only-of-type {\n",
       "        vertical-align: middle;\n",
       "    }\n",
       "\n",
       "    .dataframe tbody tr th {\n",
       "        vertical-align: top;\n",
       "    }\n",
       "\n",
       "    .dataframe thead th {\n",
       "        text-align: right;\n",
       "    }\n",
       "</style>\n",
       "<table border=\"1\" class=\"dataframe\">\n",
       "  <thead>\n",
       "    <tr style=\"text-align: right;\">\n",
       "      <th></th>\n",
       "      <th>0</th>\n",
       "      <th>1</th>\n",
       "      <th>2</th>\n",
       "      <th>3</th>\n",
       "      <th>4</th>\n",
       "      <th>5</th>\n",
       "      <th>6</th>\n",
       "      <th>7</th>\n",
       "      <th>8</th>\n",
       "      <th>9</th>\n",
       "      <th>...</th>\n",
       "      <th>21</th>\n",
       "      <th>22</th>\n",
       "      <th>23</th>\n",
       "      <th>24</th>\n",
       "      <th>25</th>\n",
       "      <th>26</th>\n",
       "      <th>27</th>\n",
       "      <th>28</th>\n",
       "      <th>29</th>\n",
       "      <th>30</th>\n",
       "    </tr>\n",
       "  </thead>\n",
       "  <tbody>\n",
       "    <tr>\n",
       "      <th>Weight</th>\n",
       "      <td>110.000000</td>\n",
       "      <td>7.500000</td>\n",
       "      <td>955.000000</td>\n",
       "      <td>1000.0000</td>\n",
       "      <td>850.000000</td>\n",
       "      <td>55.000000</td>\n",
       "      <td>150.000000</td>\n",
       "      <td>10.000000</td>\n",
       "      <td>19.700000</td>\n",
       "      <td>200.000000</td>\n",
       "      <td>...</td>\n",
       "      <td>500.000000</td>\n",
       "      <td>500.000000</td>\n",
       "      <td>700.000000</td>\n",
       "      <td>273.000000</td>\n",
       "      <td>430.000000</td>\n",
       "      <td>225.000000</td>\n",
       "      <td>140.000000</td>\n",
       "      <td>120.000000</td>\n",
       "      <td>130.000000</td>\n",
       "      <td>1000.000000</td>\n",
       "    </tr>\n",
       "    <tr>\n",
       "      <th>Predicted Weight</th>\n",
       "      <td>212.481055</td>\n",
       "      <td>-189.636049</td>\n",
       "      <td>756.728427</td>\n",
       "      <td>813.0023</td>\n",
       "      <td>816.240658</td>\n",
       "      <td>38.098095</td>\n",
       "      <td>218.321182</td>\n",
       "      <td>-168.334196</td>\n",
       "      <td>-42.610188</td>\n",
       "      <td>277.385406</td>\n",
       "      <td>...</td>\n",
       "      <td>419.788276</td>\n",
       "      <td>514.386807</td>\n",
       "      <td>630.875714</td>\n",
       "      <td>358.001479</td>\n",
       "      <td>384.100355</td>\n",
       "      <td>254.628228</td>\n",
       "      <td>186.506555</td>\n",
       "      <td>207.382732</td>\n",
       "      <td>216.491025</td>\n",
       "      <td>896.328271</td>\n",
       "    </tr>\n",
       "  </tbody>\n",
       "</table>\n",
       "<p>2 rows × 31 columns</p>\n",
       "</div>"
      ],
      "text/plain": [
       "                          0           1           2          3           4   \\\n",
       "Weight            110.000000    7.500000  955.000000  1000.0000  850.000000   \n",
       "Predicted Weight  212.481055 -189.636049  756.728427   813.0023  816.240658   \n",
       "\n",
       "                         5           6           7          8           9   \\\n",
       "Weight            55.000000  150.000000   10.000000  19.700000  200.000000   \n",
       "Predicted Weight  38.098095  218.321182 -168.334196 -42.610188  277.385406   \n",
       "\n",
       "                  ...          21          22          23          24  \\\n",
       "Weight            ...  500.000000  500.000000  700.000000  273.000000   \n",
       "Predicted Weight  ...  419.788276  514.386807  630.875714  358.001479   \n",
       "\n",
       "                          25          26          27          28          29  \\\n",
       "Weight            430.000000  225.000000  140.000000  120.000000  130.000000   \n",
       "Predicted Weight  384.100355  254.628228  186.506555  207.382732  216.491025   \n",
       "\n",
       "                           30  \n",
       "Weight            1000.000000  \n",
       "Predicted Weight   896.328271  \n",
       "\n",
       "[2 rows x 31 columns]"
      ]
     },
     "execution_count": 27,
     "metadata": {},
     "output_type": "execute_result"
    }
   ],
   "source": [
    "predictedWeight = pd.DataFrame(model.predict(X_test), columns=['Predicted Weight']) # Create new dataframe of column'Predicted Weight'\n",
    "actualWeight = pd.DataFrame(y_test)\n",
    "actualWeight = actualWeight.reset_index(drop=True) # Drop the index so that we can concat it, to create new dataframe\n",
    "df_actual_vs_predicted = pd.concat([actualWeight,predictedWeight],axis =1)\n",
    "df_actual_vs_predicted.T"
   ]
  },
  {
   "cell_type": "code",
   "execution_count": 28,
   "id": "024e547b",
   "metadata": {},
   "outputs": [
    {
     "data": {
      "text/plain": [
       "Text(0.5, 1.0, 'Weight From test Data Vs Weight Predicted By Model')"
      ]
     },
     "execution_count": 28,
     "metadata": {},
     "output_type": "execute_result"
    },
    {
     "data": {
      "image/png": "[encoded data removed]",
      "text/plain": [
       "<Figure size 720x432 with 1 Axes>"
      ]
     },
     "metadata": {
      "needs_background": "light"
     },
     "output_type": "display_data"
    }
   ],
   "source": [
    "plt.scatter(y_test, model.predict(X_test))\n",
    "plt.xlabel('Weight From Test Data')\n",
    "plt.ylabel('Weight Predicted By Model')\n",
    "plt.rcParams[\"figure.figsize\"] = (10,6) # Custom figure size in inches\n",
    "plt.title(\"Weight From test Data Vs Weight Predicted By Model\")"
   ]
  },
  {
   "cell_type": "code",
   "execution_count": 29,
   "id": "d4b028cc",
   "metadata": {},
   "outputs": [
    {
     "data": {
      "image/png": "[encoded data removed]",
      "text/plain": [
       "<Figure size 720x432 with 1 Axes>"
      ]
     },
     "metadata": {
      "needs_background": "light"
     },
     "output_type": "display_data"
    }
   ],
   "source": [
    "plt.scatter(X_test['Height'], y_test, color='red', label = 'Actual Weight')\n",
    "plt.scatter(X_test['Height'], model.predict(X_test), color='green', label = 'Prdicted Weight')\n",
    "plt.xlabel('Height')\n",
    "plt.ylabel('Weight')\n",
    "plt.rcParams[\"figure.figsize\"] = (10,6) # Custom figure size in inches\n",
    "plt.title('Actual Vs Predicted Weight for Test Data')\n",
    "plt.legend()\n",
    "plt.show()\n"
   ]
  },
  {
   "cell_type": "code",
   "execution_count": 30,
   "id": "c113dc50",
   "metadata": {},
   "outputs": [
    {
     "data": {
      "image/png": "[encoded data removed]",
      "text/plain": [
       "<Figure size 720x432 with 1 Axes>"
      ]
     },
     "metadata": {
      "needs_background": "light"
     },
     "output_type": "display_data"
    }
   ],
   "source": [
    "plt.scatter(X_test['Width'], y_test, color='red', label = 'Actual Weight')\n",
    "plt.scatter(X_test['Width'], model.predict(X_test), color='green', label = 'Prdicted Weight')\n",
    "plt.xlabel('Width')\n",
    "plt.ylabel('Weight')\n",
    "plt.rcParams[\"figure.figsize\"] = (10,6) # Custom figure size in inches\n",
    "plt.title('Actual Vs Predicted Weight for Test Data')\n",
    "plt.legend()\n",
    "plt.show()"
   ]
  },
  {
   "cell_type": "code",
   "execution_count": 32,
   "id": "8d33f5ef",
   "metadata": {},
   "outputs": [
    {
     "data": {
      "text/plain": [
       "Text(0.5, 1.0, 'Histogram of Residuals')"
      ]
     },
     "execution_count": 32,
     "metadata": {},
     "output_type": "execute_result"
    },
    {
     "data": {
      "image/png": "[encoded data removed]",
      "text/plain": [
       "<Figure size 720x432 with 1 Axes>"
      ]
     },
     "metadata": {
      "needs_background": "light"
     },
     "output_type": "display_data"
    }
   ],
   "source": [
    "sns.histplot((y_test-model.predict(X_test)))\n",
    "plt.rcParams[\"figure.figsize\"] = (10,6) # Custom figure size in inches\n",
    "plt.title(\"Histogram of Residuals\")"
   ]
  },
  {
   "cell_type": "code",
   "execution_count": null,
   "id": "1dfd7186",
   "metadata": {},
   "outputs": [],
   "source": []
  }
 ],
 "metadata": {
  "kernelspec": {
   "display_name": "Python 3",
   "language": "python",
   "name": "python3"
  },
  "language_info": {
   "codemirror_mode": {
    "name": "ipython",
    "version": 3
   },
   "file_extension": ".py",
   "mimetype": "text/x-python",
   "name": "python",
   "nbconvert_exporter": "python",
   "pygments_lexer": "ipython3",
   "version": "3.8.8"
  }
 },
 "nbformat": 4,
 "nbformat_minor": 5
}
